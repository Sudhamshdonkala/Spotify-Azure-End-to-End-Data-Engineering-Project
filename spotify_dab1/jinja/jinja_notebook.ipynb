{
 "cells": [
  {
   "cell_type": "code",
   "execution_count": 0,
   "metadata": {
    "application/vnd.databricks.v1+cell": {
     "cellMetadata": {
      "byteLimit": 2048000,
      "rowLimit": 10000
     },
     "inputWidgets": {},
     "nuid": "04eb61e3-e806-4dbb-9c71-48f29863668d",
     "showTitle": false,
     "tableResultSettingsMap": {},
     "title": ""
    }
   },
   "outputs": [],
   "source": [
    "parameters = [\n",
    "\n",
    "{\n",
    "    \"table\" : \"spotify_catalog.silver.factstream\",\n",
    "     \"alias\" : \"factstream\",\n",
    "    \"cols\"  : \"factstream.stream_id, factstream.listen_duration\"\n",
    "},\n",
    "\n",
    "{\n",
    "    \"table\" : \"spotify_catalog.silver.dimuser\",\n",
    "     \"alias\" : \"dimuser\",\n",
    "    \"cols\"  : \"dimuser.user_id, dimuser.user_name\",\n",
    "     \"condition\" : \"factstream.user_id = dimuser.user_id\"\n",
    "},\n",
    "\n",
    "{\n",
    "    \"table\" : \"spotify_catalog.silver.dimtrack\",\n",
    "     \"alias\" : \"dimtrack\",\n",
    "    \"cols\"  : \"dimtrack.track_id, dimtrack.track_name\",\n",
    "    \"condition\" : \"factstream.track_id = dimtrack.track_id\"\n",
    "}\n",
    "\n",
    "]"
   ]
  },
  {
   "cell_type": "code",
   "execution_count": 0,
   "metadata": {
    "application/vnd.databricks.v1+cell": {
     "cellMetadata": {
      "byteLimit": 2048000,
      "rowLimit": 10000
     },
     "inputWidgets": {},
     "nuid": "680d7c0d-3275-430e-ae69-106168105a07",
     "showTitle": false,
     "tableResultSettingsMap": {},
     "title": ""
    }
   },
   "outputs": [],
   "source": [
    "\n",
    "pip install jinja2"
   ]
  },
  {
   "cell_type": "code",
   "execution_count": 0,
   "metadata": {
    "application/vnd.databricks.v1+cell": {
     "cellMetadata": {
      "byteLimit": 2048000,
      "rowLimit": 10000
     },
     "inputWidgets": {},
     "nuid": "2b8fe893-0614-4517-b051-fa324b2043e5",
     "showTitle": false,
     "tableResultSettingsMap": {},
     "title": ""
    }
   },
   "outputs": [],
   "source": [
    "from jinja2 import Template\n"
   ]
  },
  {
   "cell_type": "code",
   "execution_count": 0,
   "metadata": {
    "application/vnd.databricks.v1+cell": {
     "cellMetadata": {
      "byteLimit": 2048000,
      "rowLimit": 10000
     },
     "inputWidgets": {},
     "nuid": "900c8814-d3e0-4537-98ba-07742ad8480e",
     "showTitle": false,
     "tableResultSettingsMap": {},
     "title": ""
    }
   },
   "outputs": [],
   "source": [
    "query_text = \"\"\"\n",
    "\n",
    "\n",
    "             select\n",
    "                   {%  for param in parameters %}\n",
    "                   {{param.cols}} \n",
    "                   {% if not loop.last %}\n",
    "                   , \n",
    "                   {% endif %}\n",
    "                   {% endfor %}\n",
    "\n",
    "             from\n",
    "                 {% for param in parameters %}\n",
    "                    {% if loop.first %}\n",
    "                       {{ param['table'] }} as {{ param['alias'] }}\n",
    "                    {% endif %}\n",
    "                  {% endfor %}\n",
    "                  {% for param in parameters %}\n",
    "                   {% if not loop.first %} \n",
    "                   left join\n",
    "                        {{ param['table'] }} as {{ param['alias'] }}\n",
    "                   on\n",
    "                        {{ param['condition']}}\n",
    "                    {% endif %}\n",
    "               {% endfor %}\n",
    "\"\"\""
   ]
  },
  {
   "cell_type": "code",
   "execution_count": 0,
   "metadata": {
    "application/vnd.databricks.v1+cell": {
     "cellMetadata": {
      "byteLimit": 2048000,
      "rowLimit": 10000
     },
     "inputWidgets": {},
     "nuid": "17f08f38-ac5a-4efa-b183-bd1836d9d4fa",
     "showTitle": false,
     "tableResultSettingsMap": {},
     "title": ""
    }
   },
   "outputs": [],
   "source": [
    "jinja_sql_str = Template(query_text)\n",
    "query = jinja_sql_str.render(parameters=parameters)\n",
    "print(query)"
   ]
  },
  {
   "cell_type": "code",
   "execution_count": 0,
   "metadata": {
    "application/vnd.databricks.v1+cell": {
     "cellMetadata": {
      "byteLimit": 2048000,
      "rowLimit": 10000
     },
     "inputWidgets": {},
     "nuid": "77817fc7-98db-4182-aeec-14d670c1ad3c",
     "showTitle": false,
     "tableResultSettingsMap": {},
     "title": ""
    }
   },
   "outputs": [],
   "source": [
    "display(spark.sql(query))"
   ]
  },
  {
   "cell_type": "code",
   "execution_count": 0,
   "metadata": {
    "application/vnd.databricks.v1+cell": {
     "cellMetadata": {},
     "inputWidgets": {},
     "nuid": "9d413428-aa38-4a1e-bbb1-afcbdd25d613",
     "showTitle": false,
     "tableResultSettingsMap": {},
     "title": ""
    }
   },
   "outputs": [],
   "source": []
  },
  {
   "cell_type": "code",
   "execution_count": 0,
   "metadata": {
    "application/vnd.databricks.v1+cell": {
     "cellMetadata": {},
     "inputWidgets": {},
     "nuid": "ed2ae48b-ba2c-4eea-8ef7-b5fa4867dd3b",
     "showTitle": false,
     "tableResultSettingsMap": {},
     "title": ""
    }
   },
   "outputs": [],
   "source": []
  }
 ],
 "metadata": {
  "application/vnd.databricks.v1+notebook": {
   "computePreferences": {
    "hardware": {
     "accelerator": null,
     "gpuPoolId": null,
     "memory": null
    }
   },
   "dashboards": [],
   "environmentMetadata": {
    "base_environment": "",
    "environment_version": "4"
   },
   "inputWidgetPreferences": null,
   "language": "python",
   "notebookMetadata": {
    "pythonIndentUnit": 4
   },
   "notebookName": "jinja_notebook",
   "widgets": {}
  },
  "language_info": {
   "name": "python"
  }
 },
 "nbformat": 4,
 "nbformat_minor": 0
}
