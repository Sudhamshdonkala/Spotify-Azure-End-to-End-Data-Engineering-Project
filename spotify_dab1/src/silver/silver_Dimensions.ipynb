{
 "cells": [
  {
   "cell_type": "code",
   "execution_count": 0,
   "metadata": {
    "application/vnd.databricks.v1+cell": {
     "cellMetadata": {
      "byteLimit": 2048000,
      "rowLimit": 10000
     },
     "inputWidgets": {},
     "nuid": "4994a0ba-8033-4162-a664-95a28618997d",
     "showTitle": false,
     "tableResultSettingsMap": {},
     "title": ""
    }
   },
   "outputs": [],
   "source": [
    "from pyspark.sql.functions import *\n",
    "from pyspark.sql.types import *\n",
    "\n",
    "import os\n",
    "import sys\n",
    "\n",
    "project_pth = os.path.join(os.getcwd(),'..','..')\n",
    "sys.path.append(project_pth)\n",
    "\n",
    "from utils.transformations import reusable\n"
   ]
  },
  {
   "cell_type": "markdown",
   "metadata": {
    "application/vnd.databricks.v1+cell": {
     "cellMetadata": {
      "byteLimit": 2048000,
      "rowLimit": 10000
     },
     "inputWidgets": {},
     "nuid": "d094fe14-966e-4b12-aa3b-8616454abc4e",
     "showTitle": false,
     "tableResultSettingsMap": {},
     "title": ""
    }
   },
   "source": [
    "### **DimUser**"
   ]
  },
  {
   "cell_type": "markdown",
   "metadata": {
    "application/vnd.databricks.v1+cell": {
     "cellMetadata": {
      "byteLimit": 2048000,
      "rowLimit": 10000
     },
     "inputWidgets": {},
     "nuid": "4d29dbfa-c285-40f5-ba9b-535f3062d57d",
     "showTitle": false,
     "tableResultSettingsMap": {},
     "title": ""
    }
   },
   "source": [
    "### **AUTOLOADER**"
   ]
  },
  {
   "cell_type": "code",
   "execution_count": 0,
   "metadata": {
    "application/vnd.databricks.v1+cell": {
     "cellMetadata": {
      "byteLimit": 2048000,
      "rowLimit": 10000
     },
     "inputWidgets": {},
     "nuid": "de82ce7c-16b8-4e78-b1b3-1099e613f75e",
     "showTitle": false,
     "tableResultSettingsMap": {},
     "title": ""
    }
   },
   "outputs": [],
   "source": [
    "df_user = (\n",
    "    spark.readStream\n",
    "    .format(\"cloudFiles\")\n",
    "    .option(\"cloudFiles.format\", \"parquet\")\n",
    "    .option(\"cloudFiles.schemaLocation\", \"abfss://silver@sudhamshazureproject.dfs.core.windows.net/DimUser/checkpoint\")\n",
    "    .option(\"schemaEvolutionMode\",\"addNewColumns\")\n",
    "    .load(\"abfss://bronze@sudhamshazureproject.dfs.core.windows.net/DimUser\")\n",
    ")\n"
   ]
  },
  {
   "cell_type": "code",
   "execution_count": 0,
   "metadata": {
    "application/vnd.databricks.v1+cell": {
     "cellMetadata": {
      "byteLimit": 2048000,
      "rowLimit": 10000
     },
     "inputWidgets": {},
     "nuid": "169a3c31-ea74-420e-a65a-eef941976a87",
     "showTitle": false,
     "tableResultSettingsMap": {},
     "title": ""
    }
   },
   "outputs": [],
   "source": [
    "display(df_user)"
   ]
  },
  {
   "cell_type": "code",
   "execution_count": 0,
   "metadata": {
    "application/vnd.databricks.v1+cell": {
     "cellMetadata": {
      "byteLimit": 2048000,
      "rowLimit": 10000
     },
     "inputWidgets": {},
     "nuid": "5fb815eb-de28-42b4-8a91-f2494b471dd1",
     "showTitle": false,
     "tableResultSettingsMap": {},
     "title": ""
    }
   },
   "outputs": [],
   "source": [
    "\n",
    "df_user = df_user.withColumn(\"user_name\", upper(col(\"user_name\")))\n",
    "\n",
    "\n",
    "display(df_user)"
   ]
  },
  {
   "cell_type": "code",
   "execution_count": 0,
   "metadata": {
    "application/vnd.databricks.v1+cell": {
     "cellMetadata": {
      "byteLimit": 2048000,
      "rowLimit": 10000
     },
     "inputWidgets": {},
     "nuid": "0bf48861-b869-42a8-a8db-bef9198e3b99",
     "showTitle": false,
     "tableResultSettingsMap": {},
     "title": ""
    }
   },
   "outputs": [],
   "source": [
    "df_user_obj = reusable()  # Ensure 'reusable' is imported or defined before this line.\n",
    "\n",
    "df_user = df_user_obj.dropColumns(df_user,['_rescued_data'])\n",
    "df_user = df_user.dropDuplicates(['user_id'])\n",
    "display(df_user)"
   ]
  },
  {
   "cell_type": "code",
   "execution_count": 0,
   "metadata": {
    "application/vnd.databricks.v1+cell": {
     "cellMetadata": {
      "byteLimit": 2048000,
      "rowLimit": 10000
     },
     "inputWidgets": {},
     "nuid": "de8eca3a-4acd-401a-933f-d06258a1cd8c",
     "showTitle": false,
     "tableResultSettingsMap": {},
     "title": ""
    }
   },
   "outputs": [],
   "source": [
    "df_user.writeStream.format(\"delta\")\\\n",
    "         .outputMode(\"append\")\\\n",
    "         .option(\"checkpointLocation\", \"abfss://silver@sudhamshazureproject.dfs.core.windows.net/DimUser/checkpoint\")\\\n",
    "         .trigger(once=True)\\\n",
    "         .option(\"path\", \"abfss://silver@sudhamshazureproject.dfs.core.windows.net/DimUser/data\")\\\n",
    "         .toTable(\"spotify_catalog.silver.DimUser\")    \n",
    "               "
   ]
  },
  {
   "cell_type": "markdown",
   "metadata": {
    "application/vnd.databricks.v1+cell": {
     "cellMetadata": {
      "byteLimit": 2048000,
      "rowLimit": 10000
     },
     "inputWidgets": {},
     "nuid": "a9e0fafd-d0f9-45a1-891f-a3c75fa8fe00",
     "showTitle": false,
     "tableResultSettingsMap": {},
     "title": ""
    }
   },
   "source": [
    "### **DimArtist**"
   ]
  },
  {
   "cell_type": "code",
   "execution_count": 0,
   "metadata": {
    "application/vnd.databricks.v1+cell": {
     "cellMetadata": {
      "byteLimit": 2048000,
      "rowLimit": 10000
     },
     "inputWidgets": {},
     "nuid": "db7222da-3920-455e-a48d-8dcdfad10aa1",
     "showTitle": false,
     "tableResultSettingsMap": {},
     "title": ""
    }
   },
   "outputs": [],
   "source": [
    "df_art = (\n",
    "    spark.readStream\n",
    "    .format(\"cloudFiles\")\n",
    "    .option(\"cloudFiles.format\", \"parquet\")\n",
    "    .option(\"cloudFiles.schemaLocation\", \"abfss://silver@sudhamshazureproject.dfs.core.windows.net/DimArtist/checkpoint\")\n",
    "    .option(\"schemaEvolutionMode\",\"addNewColumns\")\n",
    "    .load(\"abfss://bronze@sudhamshazureproject.dfs.core.windows.net/DimArtist\")\n",
    ")\n"
   ]
  },
  {
   "cell_type": "code",
   "execution_count": 0,
   "metadata": {
    "application/vnd.databricks.v1+cell": {
     "cellMetadata": {
      "byteLimit": 2048000,
      "rowLimit": 10000
     },
     "inputWidgets": {},
     "nuid": "ad678ce2-f881-4c92-83f0-dfc17ca4afca",
     "showTitle": false,
     "tableResultSettingsMap": {},
     "title": ""
    }
   },
   "outputs": [],
   "source": [
    "display(df_art)"
   ]
  },
  {
   "cell_type": "code",
   "execution_count": 0,
   "metadata": {
    "application/vnd.databricks.v1+cell": {
     "cellMetadata": {
      "byteLimit": 2048000,
      "rowLimit": 10000
     },
     "inputWidgets": {},
     "nuid": "b21e1d6e-911f-47c0-b39a-45819a0ea1ca",
     "showTitle": false,
     "tableResultSettingsMap": {},
     "title": ""
    }
   },
   "outputs": [],
   "source": [
    "df_art_obj = reusable()\n",
    "\n",
    "df_art = df_art_obj.dropColumns(df_art,['_rescued_data'])\n",
    "df_art = df_art.dropDuplicates(['artist_id'])\n",
    "display(df_art)"
   ]
  },
  {
   "cell_type": "code",
   "execution_count": 0,
   "metadata": {
    "application/vnd.databricks.v1+cell": {
     "cellMetadata": {
      "byteLimit": 2048000,
      "rowLimit": 10000
     },
     "inputWidgets": {},
     "nuid": "14a5d644-00e9-4771-bef2-03abff3c071c",
     "showTitle": false,
     "tableResultSettingsMap": {},
     "title": ""
    }
   },
   "outputs": [],
   "source": [
    "df_art.writeStream \\\n",
    "    .format(\"delta\") \\\n",
    "    .outputMode(\"append\") \\\n",
    "    .option(\"checkpointLocation\", \"abfss://silver@sudhamshazureproject.dfs.core.windows.net/DimArtist/checkpoint\") \\\n",
    "    .trigger(once=True) \\\n",
    "    .option(\"path\", \"abfss://silver@sudhamshazureproject.dfs.core.windows.net/DimArtist/data\") \\\n",
    "    .toTable(\"spotify_catalog.silver.DimArtist\")\n"
   ]
  },
  {
   "cell_type": "markdown",
   "metadata": {
    "application/vnd.databricks.v1+cell": {
     "cellMetadata": {
      "byteLimit": 2048000,
      "rowLimit": 10000
     },
     "inputWidgets": {},
     "nuid": "16e1940e-c4d1-4cfc-b4a2-5b3b93659447",
     "showTitle": false,
     "tableResultSettingsMap": {},
     "title": ""
    }
   },
   "source": [
    "### **DimTrack**"
   ]
  },
  {
   "cell_type": "code",
   "execution_count": 0,
   "metadata": {
    "application/vnd.databricks.v1+cell": {
     "cellMetadata": {
      "byteLimit": 2048000,
      "rowLimit": 10000
     },
     "inputWidgets": {},
     "nuid": "39e01224-4610-4413-821b-e2c0c2df4c62",
     "showTitle": false,
     "tableResultSettingsMap": {},
     "title": ""
    }
   },
   "outputs": [],
   "source": [
    "df_track = (\n",
    "    spark.readStream\n",
    "    .format(\"cloudFiles\")\n",
    "    .option(\"cloudFiles.format\", \"parquet\")\n",
    "    .option(\"cloudFiles.schemaLocation\", \"abfss://silver@sudhamshazureproject.dfs.core.windows.net/DimTrack/checkpoint\")\n",
    "    .option(\"schemaEvolutionMode\",\"addNewColumns\")\n",
    "    .load(\"abfss://bronze@sudhamshazureproject.dfs.core.windows.net/DimTrack\")\n",
    ")"
   ]
  },
  {
   "cell_type": "code",
   "execution_count": 0,
   "metadata": {
    "application/vnd.databricks.v1+cell": {
     "cellMetadata": {
      "byteLimit": 2048000,
      "rowLimit": 10000
     },
     "inputWidgets": {},
     "nuid": "4a4cd46c-283b-48f3-a252-dfb1268b0c30",
     "showTitle": false,
     "tableResultSettingsMap": {},
     "title": ""
    }
   },
   "outputs": [],
   "source": [
    "display(df_track)"
   ]
  },
  {
   "cell_type": "code",
   "execution_count": 0,
   "metadata": {
    "application/vnd.databricks.v1+cell": {
     "cellMetadata": {
      "byteLimit": 2048000,
      "rowLimit": 10000
     },
     "inputWidgets": {},
     "nuid": "50bb31e6-e474-4288-ad77-2ec7a73e48b3",
     "showTitle": false,
     "tableResultSettingsMap": {},
     "title": ""
    }
   },
   "outputs": [],
   "source": [
    "df_track = df_track.withColumn(\"durationFlag\",when(col('duration_sec') <150,\"low\")\\\n",
    "                                             .when(col('duration_sec')<300,\"medium\")\\\n",
    "                                             .otherwise(\"high\"))\n",
    "df_track = df_track.withColumn(\"track_name\",regexp_replace(col('track_name'),'-','')) \n",
    "df_track = reusable().dropColumns(df_track,['_rescued_data'])                                            \n",
    "display(df_track)"
   ]
  },
  {
   "cell_type": "code",
   "execution_count": 0,
   "metadata": {
    "application/vnd.databricks.v1+cell": {
     "cellMetadata": {
      "byteLimit": 2048000,
      "rowLimit": 10000
     },
     "inputWidgets": {},
     "nuid": "442796d3-3242-4b24-b63a-0039f095783c",
     "showTitle": false,
     "tableResultSettingsMap": {},
     "title": ""
    }
   },
   "outputs": [],
   "source": [
    "df_track.writeStream \\\n",
    "    .format(\"delta\") \\\n",
    "    .outputMode(\"append\") \\\n",
    "    .option(\"checkpointLocation\", \"abfss://silver@sudhamshazureproject.dfs.core.windows.net/DimTrack/checkpoint\") \\\n",
    "    .trigger(once=True) \\\n",
    "    .option(\"path\", \"abfss://silver@sudhamshazureproject.dfs.core.windows.net/DimTrack/data\") \\\n",
    "    .toTable(\"spotify_catalog.silver.DimTrack\")"
   ]
  },
  {
   "cell_type": "markdown",
   "metadata": {
    "application/vnd.databricks.v1+cell": {
     "cellMetadata": {
      "byteLimit": 2048000,
      "rowLimit": 10000
     },
     "inputWidgets": {},
     "nuid": "884ec281-9589-4c1e-8bad-8b2e72647ff8",
     "showTitle": false,
     "tableResultSettingsMap": {},
     "title": ""
    }
   },
   "source": [
    "### **DimDate**"
   ]
  },
  {
   "cell_type": "code",
   "execution_count": 0,
   "metadata": {
    "application/vnd.databricks.v1+cell": {
     "cellMetadata": {
      "byteLimit": 2048000,
      "rowLimit": 10000
     },
     "inputWidgets": {},
     "nuid": "32eefb10-4aa4-47a2-a087-41b3e181024b",
     "showTitle": false,
     "tableResultSettingsMap": {},
     "title": ""
    }
   },
   "outputs": [],
   "source": [
    "df_date = (\n",
    "    spark.readStream\n",
    "    .format(\"cloudFiles\")\n",
    "    .option(\"cloudFiles.format\", \"parquet\")\n",
    "    .option(\"cloudFiles.schemaLocation\", \"abfss://silver@sudhamshazureproject.dfs.core.windows.net/DimDate/checkpoint\")\n",
    "    .option(\"schemaEvolutionMode\",\"addNewColumns\")\n",
    "    .load(\"abfss://bronze@sudhamshazureproject.dfs.core.windows.net/DimDate\")\n",
    ")"
   ]
  },
  {
   "cell_type": "code",
   "execution_count": 0,
   "metadata": {
    "application/vnd.databricks.v1+cell": {
     "cellMetadata": {
      "byteLimit": 2048000,
      "rowLimit": 10000
     },
     "inputWidgets": {},
     "nuid": "99544606-2193-4e58-812a-deb4bd1f4ec4",
     "showTitle": false,
     "tableResultSettingsMap": {},
     "title": ""
    }
   },
   "outputs": [],
   "source": [
    "df_date = reusable().dropColumns(df_date,['_rescued_data'])\n",
    "\n",
    "df_date.writeStream \\\n",
    "    .format(\"delta\") \\\n",
    "    .outputMode(\"append\") \\\n",
    "    .option(\"checkpointLocation\", \"abfss://silver@sudhamshazureproject.dfs.core.windows.net/DimDate/checkpoint\") \\\n",
    "    .trigger(once=True) \\\n",
    "    .option(\"path\", \"abfss://silver@sudhamshazureproject.dfs.core.windows.net/DimDate/data\") \\\n",
    "    .toTable(\"spotify_catalog.silver.DimDate\")"
   ]
  },
  {
   "cell_type": "markdown",
   "metadata": {
    "application/vnd.databricks.v1+cell": {
     "cellMetadata": {
      "byteLimit": 2048000,
      "rowLimit": 10000
     },
     "inputWidgets": {},
     "nuid": "b88177fe-0512-43fd-97bc-189e455532c1",
     "showTitle": false,
     "tableResultSettingsMap": {},
     "title": ""
    }
   },
   "source": [
    "### **FactStrean**"
   ]
  },
  {
   "cell_type": "code",
   "execution_count": 0,
   "metadata": {
    "application/vnd.databricks.v1+cell": {
     "cellMetadata": {
      "byteLimit": 2048000,
      "rowLimit": 10000
     },
     "inputWidgets": {},
     "nuid": "94f253c6-ccbd-40e5-b6d2-aca36f4a266c",
     "showTitle": false,
     "tableResultSettingsMap": {},
     "title": ""
    }
   },
   "outputs": [],
   "source": [
    "df_fact = (\n",
    "    spark.readStream\n",
    "    .format(\"cloudFiles\")\n",
    "    .option(\"cloudFiles.format\", \"parquet\")\n",
    "    .option(\"cloudFiles.schemaLocation\", \"abfss://silver@sudhamshazureproject.dfs.core.windows.net/FactStream/checkpoint\")\n",
    "    .option(\"schemaEvolutionMode\",\"addNewColumns\")\n",
    "    .load(\"abfss://bronze@sudhamshazureproject.dfs.core.windows.net/FactStream\")\n",
    ")"
   ]
  },
  {
   "cell_type": "code",
   "execution_count": 0,
   "metadata": {
    "application/vnd.databricks.v1+cell": {
     "cellMetadata": {
      "byteLimit": 2048000,
      "rowLimit": 10000
     },
     "inputWidgets": {},
     "nuid": "bc7c3e0d-d5b1-49e9-9c60-758619c21756",
     "showTitle": false,
     "tableResultSettingsMap": {},
     "title": ""
    }
   },
   "outputs": [],
   "source": [
    "display(df_fact)"
   ]
  },
  {
   "cell_type": "code",
   "execution_count": 0,
   "metadata": {
    "application/vnd.databricks.v1+cell": {
     "cellMetadata": {
      "byteLimit": 2048000,
      "rowLimit": 10000
     },
     "inputWidgets": {},
     "nuid": "d9fd2e48-d6b9-437c-b160-eb15c9192929",
     "showTitle": false,
     "tableResultSettingsMap": {},
     "title": ""
    }
   },
   "outputs": [],
   "source": [
    "df_fact = reusable().dropColumns(df_fact,['_rescued_data'])\n",
    "\n",
    "df_fact.writeStream \\\n",
    "    .format(\"delta\") \\\n",
    "    .outputMode(\"append\") \\\n",
    "    .option(\"checkpointLocation\", \"abfss://silver@sudhamshazureproject.dfs.core.windows.net/FactStream/checkpoint\") \\\n",
    "    .trigger(once=True) \\\n",
    "    .option(\"path\", \"abfss://silver@sudhamshazureproject.dfs.core.windows.net/FactStream/data\") \\\n",
    "    .toTable(\"spotify_catalog.silver.FactStream\")"
   ]
  }
 ],
 "metadata": {
  "application/vnd.databricks.v1+notebook": {
   "computePreferences": {
    "hardware": {
     "accelerator": null,
     "gpuPoolId": null,
     "memory": null
    }
   },
   "dashboards": [],
   "environmentMetadata": {
    "base_environment": "",
    "environment_version": "4"
   },
   "inputWidgetPreferences": null,
   "language": "python",
   "notebookMetadata": {
    "pythonIndentUnit": 4
   },
   "notebookName": "silver_Dimensions",
   "widgets": {}
  },
  "language_info": {
   "name": "python"
  }
 },
 "nbformat": 4,
 "nbformat_minor": 0
}
